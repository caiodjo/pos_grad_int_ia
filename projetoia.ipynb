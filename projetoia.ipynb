{
 "cells": [
  {
   "cell_type": "code",
   "execution_count": 8,
   "metadata": {},
   "outputs": [],
   "source": [
    "from selenium.webdriver.common.by import By\n",
    "import undetected_chromedriver as uc"
   ]
  },
  {
   "cell_type": "code",
   "execution_count": 9,
   "metadata": {},
   "outputs": [],
   "source": [
    "navegador = uc.Chrome(version_main=126)\n",
    "navegador.maximize_window()\n",
    "navegador.get('https://www.youtube.com/watch?v=u2fM1dJcEiA')\n"
   ]
  },
  {
   "cell_type": "code",
   "execution_count": 10,
   "metadata": {},
   "outputs": [
    {
     "name": "stdout",
     "output_type": "stream",
     "text": [
      "Voto para que o próximo vídeo seja \"Quem já levou chifre\" [{'label': '1 star', 'score': 0.3967513144016266}]\n"
     ]
    }
   ],
   "source": [
    "from transformers import pipeline\n",
    "\n",
    "model_name = \"nlptown/bert-base-multilingual-uncased-sentiment\"\n",
    "sentiment_analyzer = pipeline('sentiment-analysis', model=model_name)\n",
    "xpath='//*[@id=\"content-text\"]/span' \n",
    "comments = navegador.find_element(By.XPATH, xpath)\n",
    "# comentario = WebDriverWait(navegador, 20).until(\n",
    "#     EC.visibility_of_element_located((By.XPATH, xpath))\n",
    "# ).text\n",
    "# for i in comments:\n",
    "#     print(i.text)\n",
    "results = sentiment_analyzer(comments.text)\n",
    "print(comments.text, results)"
   ]
  }
 ],
 "metadata": {
  "kernelspec": {
   "display_name": "Python 3",
   "language": "python",
   "name": "python3"
  },
  "language_info": {
   "codemirror_mode": {
    "name": "ipython",
    "version": 3
   },
   "file_extension": ".py",
   "mimetype": "text/x-python",
   "name": "python",
   "nbconvert_exporter": "python",
   "pygments_lexer": "ipython3",
   "version": "3.11.0"
  }
 },
 "nbformat": 4,
 "nbformat_minor": 2
}
