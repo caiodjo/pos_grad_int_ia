{
 "cells": [
  {
   "cell_type": "code",
   "execution_count": 7,
   "metadata": {},
   "outputs": [],
   "source": [
    "from selenium.webdriver.common.by import By\n",
    "import undetected_chromedriver as uc\n",
    "import openpyxl\n",
    "from openpyxl.styles import Alignment\n",
    "from time import sleep"
   ]
  },
  {
   "cell_type": "code",
   "execution_count": 11,
   "metadata": {},
   "outputs": [],
   "source": [
    "navegador = uc.Chrome(version_main=126)\n",
    "navegador.maximize_window()\n",
    "navegador.get('https://www.youtube.com/watch?v=u2fM1dJcEiA')\n",
    "sleep(7)\n",
    "navegador.execute_script(\"window.scrollBy(0,300);\")\n",
    "sleep(1)\n"
   ]
  },
  {
   "cell_type": "code",
   "execution_count": 14,
   "metadata": {},
   "outputs": [
    {
     "name": "stdout",
     "output_type": "stream",
     "text": [
      "1 star\n",
      "O Cazé aparecendo que nem o Stan Lee foi incrível kkkkkkkkkkkkkk [{'label': '1 star', 'score': 0.5435135960578918}]\n"
     ]
    }
   ],
   "source": [
    "\n",
    "from transformers import pipeline\n",
    "\n",
    "workbook = openpyxl.Workbook()\n",
    "sheet = workbook.active\n",
    "centro_alinhamento = Alignment(horizontal='center', vertical='center')\n",
    "\n",
    "model_name = \"nlptown/bert-base-multilingual-uncased-sentiment\"\n",
    "sentiment_analyzer = pipeline('sentiment-analysis', model=model_name)\n",
    "xpath='//*[@id=\"content-text\"]/span' \n",
    "comments = navegador.find_element(By.XPATH, xpath)\n",
    "# comentario = WebDriverWait(navegador, 20).until(\n",
    "#     EC.visibility_of_element_located((By.XPATH, xpath))\n",
    "# ).text\n",
    "\n",
    "#find_elementS and loop for to multiple comments\n",
    "results = sentiment_analyzer(comments.text)\n",
    "print(results[0]['label'])\n",
    "sheet.cell(row=1, column=1,value=results[0]['label']).alignment = centro_alinhamento\n",
    "\n",
    "workbook.save(\"Comentarios_negativos.xlsx\")\n",
    "navegador.quit()"
   ]
  }
 ],
 "metadata": {
  "kernelspec": {
   "display_name": "Python 3",
   "language": "python",
   "name": "python3"
  },
  "language_info": {
   "codemirror_mode": {
    "name": "ipython",
    "version": 3
   },
   "file_extension": ".py",
   "mimetype": "text/x-python",
   "name": "python",
   "nbconvert_exporter": "python",
   "pygments_lexer": "ipython3",
   "version": "3.11.0"
  }
 },
 "nbformat": 4,
 "nbformat_minor": 2
}
